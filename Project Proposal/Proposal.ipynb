{
 "cells": [
  {
   "cell_type": "markdown",
   "metadata": {},
   "source": [
    "# Analysis Tool(s)\n",
    "### Python\n",
    "Python is an interpreted, high-level open source programming language. It was developed by Guido van Rossum. It has large collection of scientific-library which make it most popular among researchers. It has vast support and community for machine learning and deep learning as well. Easy to understand and work with in order to solve any ML and general programming problem. We will use Python’s most popular scientific library called ‘NumPy’ to work with n-dimensional array.\n",
    "\n",
    "### Pandas\n",
    "Pandas is a data analysis tools which is easy to use. Pandas DataFrame and Series are extremely helpful to work with tabular data form. It can be used to deal with missing values. It has powerful function to read, write and work with various types of files which speed up data analysis process.\n",
    "\n",
    "### Matplotlib\n",
    "Matplotlib is a Python 2d plotting library. It is extremely useful to visualize data. Histogram, scatter plot and many other data visualization tasks can be done on the fly. It has a lot functionality which makes it stand out among other data visualization tools.\n",
    "\n",
    "### Scikit-learn\n",
    "Scikit-learn is a Python machine learning library. This library is built on Python’s NumPy, SciPy, and Matplotlib. It is open source and easy to use for any machine learning modeling. It is the most popular machine learning library among machine learning enthusiasts. This powerful library can be used to build almost any machine learning model such as classification, Regression, Clustering and so on. \n",
    "\n",
    "### TensorFlow\n",
    "TensorFlow is an open source library to build machine learning as well as deep learning model. It was developed by the Google Brain team for internal Google use. Later on, it was released on November 9, 2015. It has made easy to work with neural network and deploy machine learning model on the fly. \n"
   ]
  },
  {
   "cell_type": "code",
   "execution_count": null,
   "metadata": {},
   "outputs": [],
   "source": []
  }
 ],
 "metadata": {
  "kernelspec": {
   "display_name": "Python 3",
   "language": "python",
   "name": "python3"
  },
  "language_info": {
   "codemirror_mode": {
    "name": "ipython",
    "version": 3
   },
   "file_extension": ".py",
   "mimetype": "text/x-python",
   "name": "python",
   "nbconvert_exporter": "python",
   "pygments_lexer": "ipython3",
   "version": "3.6.8"
  }
 },
 "nbformat": 4,
 "nbformat_minor": 2
}
