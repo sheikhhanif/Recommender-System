{
  "nbformat": 4,
  "nbformat_minor": 0,
  "metadata": {
    "colab": {
      "name": "app_recommender.ipynb",
      "version": "0.3.2",
      "provenance": []
    },
    "kernelspec": {
      "name": "python3",
      "display_name": "Python 3"
    },
    "accelerator": "GPU"
  },
  "cells": [
    {
      "metadata": {
        "id": "GiO_Z3vXfJ7V",
        "colab_type": "text"
      },
      "cell_type": "markdown",
      "source": [
        "Group project codes\n",
        "\n",
        "Team members \n",
        "\n",
        "Shabab Abdullah Omar                  1628543\n",
        "\n",
        "Sheikh Md Hanif Hossain             1534721\n",
        "\n",
        "Saad Bin Manna                              1539783\n",
        "\n",
        "Serajee Nasheed Hossain            1620397\n",
        "\n",
        "Atif Ahnaf Chowdhury                   1518335"
      ]
    },
    {
      "metadata": {
        "id": "FD1AZZ8cgGX8",
        "colab_type": "text"
      },
      "cell_type": "markdown",
      "source": [
        "Loading Google drive"
      ]
    },
    {
      "metadata": {
        "id": "NUT1lZF1dCLb",
        "colab_type": "code",
        "outputId": "9287bf38-b4e5-4c73-966a-6834c5943da8",
        "colab": {
          "base_uri": "https://localhost:8080/",
          "height": 124
        }
      },
      "cell_type": "code",
      "source": [
        "from google.colab import drive\n",
        "drive.mount('/content/drive')"
      ],
      "execution_count": 0,
      "outputs": [
        {
          "output_type": "stream",
          "text": [
            "Go to this URL in a browser: https://accounts.google.com/o/oauth2/auth?client_id=947318989803-6bn6qk8qdgf4n4g3pfee6491hc0brc4i.apps.googleusercontent.com&redirect_uri=urn%3Aietf%3Awg%3Aoauth%3A2.0%3Aoob&scope=email%20https%3A%2F%2Fwww.googleapis.com%2Fauth%2Fdocs.test%20https%3A%2F%2Fwww.googleapis.com%2Fauth%2Fdrive%20https%3A%2F%2Fwww.googleapis.com%2Fauth%2Fdrive.photos.readonly%20https%3A%2F%2Fwww.googleapis.com%2Fauth%2Fpeopleapi.readonly&response_type=code\n",
            "\n",
            "Enter your authorization code:\n",
            "··········\n",
            "Mounted at /content/drive\n"
          ],
          "name": "stdout"
        }
      ]
    },
    {
      "metadata": {
        "id": "BSMTU1uZgJeJ",
        "colab_type": "text"
      },
      "cell_type": "markdown",
      "source": [
        "Importing libraries"
      ]
    },
    {
      "metadata": {
        "id": "g9XkCbM-b6KO",
        "colab_type": "code",
        "colab": {}
      },
      "cell_type": "code",
      "source": [
        "import pandas as pd \n",
        "import numpy as np\n",
        "import matplotlib.pyplot as plt"
      ],
      "execution_count": 0,
      "outputs": []
    },
    {
      "metadata": {
        "id": "q2Dq5KDxgMEB",
        "colab_type": "text"
      },
      "cell_type": "markdown",
      "source": [
        "Loading dataset"
      ]
    },
    {
      "metadata": {
        "id": "sW3xEAhQcva3",
        "colab_type": "code",
        "colab": {}
      },
      "cell_type": "code",
      "source": [
        "dataset = pd.read_csv('/content/drive/My Drive/Colab Notebooks/Recommender_System/MPU_GEO.csv')"
      ],
      "execution_count": 0,
      "outputs": []
    },
    {
      "metadata": {
        "id": "Kmomy66KgQ2E",
        "colab_type": "text"
      },
      "cell_type": "markdown",
      "source": [
        "Check the dataset"
      ]
    },
    {
      "metadata": {
        "id": "lE57vD9Ac2cS",
        "colab_type": "code",
        "outputId": "2d28306e-2408-48e6-fbd7-3fa7c3dca26e",
        "colab": {
          "base_uri": "https://localhost:8080/",
          "height": 206
        }
      },
      "cell_type": "code",
      "source": [
        "dataset.head()"
      ],
      "execution_count": 0,
      "outputs": [
        {
          "output_type": "execute_result",
          "data": {
            "text/html": [
              "<div>\n",
              "<style scoped>\n",
              "    .dataframe tbody tr th:only-of-type {\n",
              "        vertical-align: middle;\n",
              "    }\n",
              "\n",
              "    .dataframe tbody tr th {\n",
              "        vertical-align: top;\n",
              "    }\n",
              "\n",
              "    .dataframe thead th {\n",
              "        text-align: right;\n",
              "    }\n",
              "</style>\n",
              "<table border=\"1\" class=\"dataframe\">\n",
              "  <thead>\n",
              "    <tr style=\"text-align: right;\">\n",
              "      <th></th>\n",
              "      <th>AUI0OLXAB3KKT</th>\n",
              "      <th>B004A9SDD8</th>\n",
              "      <th>5</th>\n",
              "      <th>1301184000</th>\n",
              "    </tr>\n",
              "  </thead>\n",
              "  <tbody>\n",
              "    <tr>\n",
              "      <th>0</th>\n",
              "      <td>A1ZUSQ3TC3EC4C</td>\n",
              "      <td>B004A9SDD8</td>\n",
              "      <td>5.0</td>\n",
              "      <td>1321574400</td>\n",
              "    </tr>\n",
              "    <tr>\n",
              "      <th>1</th>\n",
              "      <td>AC05OAXD72X1V</td>\n",
              "      <td>B004A9SDD8</td>\n",
              "      <td>4.0</td>\n",
              "      <td>1367366400</td>\n",
              "    </tr>\n",
              "    <tr>\n",
              "      <th>2</th>\n",
              "      <td>A2RVMFOKBVM21I</td>\n",
              "      <td>B004A9SDD8</td>\n",
              "      <td>5.0</td>\n",
              "      <td>1350172800</td>\n",
              "    </tr>\n",
              "    <tr>\n",
              "      <th>3</th>\n",
              "      <td>A3NBSRGUWQGCMZ</td>\n",
              "      <td>B004A9SDD8</td>\n",
              "      <td>1.0</td>\n",
              "      <td>1300838400</td>\n",
              "    </tr>\n",
              "    <tr>\n",
              "      <th>4</th>\n",
              "      <td>A2KTVCVZJ8GPD2</td>\n",
              "      <td>B004A9SDD8</td>\n",
              "      <td>5.0</td>\n",
              "      <td>1393545600</td>\n",
              "    </tr>\n",
              "  </tbody>\n",
              "</table>\n",
              "</div>"
            ],
            "text/plain": [
              "    AUI0OLXAB3KKT  B004A9SDD8    5  1301184000\n",
              "0  A1ZUSQ3TC3EC4C  B004A9SDD8  5.0  1321574400\n",
              "1   AC05OAXD72X1V  B004A9SDD8  4.0  1367366400\n",
              "2  A2RVMFOKBVM21I  B004A9SDD8  5.0  1350172800\n",
              "3  A3NBSRGUWQGCMZ  B004A9SDD8  1.0  1300838400\n",
              "4  A2KTVCVZJ8GPD2  B004A9SDD8  5.0  1393545600"
            ]
          },
          "metadata": {
            "tags": []
          },
          "execution_count": 5
        }
      ]
    },
    {
      "metadata": {
        "id": "XdAcxVkNgT0d",
        "colab_type": "text"
      },
      "cell_type": "markdown",
      "source": [
        "Add columns"
      ]
    },
    {
      "metadata": {
        "id": "84gb6Wcbdsmi",
        "colab_type": "code",
        "colab": {}
      },
      "cell_type": "code",
      "source": [
        "dataset.columns = ['user_id', 'item_id', 'rating', 'timestamp' ]"
      ],
      "execution_count": 0,
      "outputs": []
    },
    {
      "metadata": {
        "id": "mmV7KXxngV6I",
        "colab_type": "text"
      },
      "cell_type": "markdown",
      "source": [
        "Statistical summary"
      ]
    },
    {
      "metadata": {
        "id": "uJg5XeQPefMt",
        "colab_type": "code",
        "outputId": "96ff994b-5b21-4894-c712-1b23e70f4b84",
        "colab": {
          "base_uri": "https://localhost:8080/",
          "height": 300
        }
      },
      "cell_type": "code",
      "source": [
        "dataset.describe()"
      ],
      "execution_count": 0,
      "outputs": [
        {
          "output_type": "execute_result",
          "data": {
            "text/html": [
              "<div>\n",
              "<style scoped>\n",
              "    .dataframe tbody tr th:only-of-type {\n",
              "        vertical-align: middle;\n",
              "    }\n",
              "\n",
              "    .dataframe tbody tr th {\n",
              "        vertical-align: top;\n",
              "    }\n",
              "\n",
              "    .dataframe thead th {\n",
              "        text-align: right;\n",
              "    }\n",
              "</style>\n",
              "<table border=\"1\" class=\"dataframe\">\n",
              "  <thead>\n",
              "    <tr style=\"text-align: right;\">\n",
              "      <th></th>\n",
              "      <th>rating</th>\n",
              "      <th>timestamp</th>\n",
              "    </tr>\n",
              "  </thead>\n",
              "  <tbody>\n",
              "    <tr>\n",
              "      <th>count</th>\n",
              "      <td>1.048572e+06</td>\n",
              "      <td>1.048575e+06</td>\n",
              "    </tr>\n",
              "    <tr>\n",
              "      <th>mean</th>\n",
              "      <td>3.000026e+00</td>\n",
              "      <td>1.353307e+09</td>\n",
              "    </tr>\n",
              "    <tr>\n",
              "      <th>std</th>\n",
              "      <td>9.417615e-03</td>\n",
              "      <td>2.481804e+07</td>\n",
              "    </tr>\n",
              "    <tr>\n",
              "      <th>min</th>\n",
              "      <td>1.000000e+00</td>\n",
              "      <td>1.043453e+09</td>\n",
              "    </tr>\n",
              "    <tr>\n",
              "      <th>25%</th>\n",
              "      <td>3.000000e+00</td>\n",
              "      <td>1.332806e+09</td>\n",
              "    </tr>\n",
              "    <tr>\n",
              "      <th>50%</th>\n",
              "      <td>3.000000e+00</td>\n",
              "      <td>1.351987e+09</td>\n",
              "    </tr>\n",
              "    <tr>\n",
              "      <th>75%</th>\n",
              "      <td>3.000000e+00</td>\n",
              "      <td>1.371514e+09</td>\n",
              "    </tr>\n",
              "    <tr>\n",
              "      <th>max</th>\n",
              "      <td>5.000000e+00</td>\n",
              "      <td>1.406074e+09</td>\n",
              "    </tr>\n",
              "  </tbody>\n",
              "</table>\n",
              "</div>"
            ],
            "text/plain": [
              "             rating     timestamp\n",
              "count  1.048572e+06  1.048575e+06\n",
              "mean   3.000026e+00  1.353307e+09\n",
              "std    9.417615e-03  2.481804e+07\n",
              "min    1.000000e+00  1.043453e+09\n",
              "25%    3.000000e+00  1.332806e+09\n",
              "50%    3.000000e+00  1.351987e+09\n",
              "75%    3.000000e+00  1.371514e+09\n",
              "max    5.000000e+00  1.406074e+09"
            ]
          },
          "metadata": {
            "tags": []
          },
          "execution_count": 7
        }
      ]
    },
    {
      "metadata": {
        "id": "FqvueJjygbeO",
        "colab_type": "text"
      },
      "cell_type": "markdown",
      "source": [
        "After adding columns"
      ]
    },
    {
      "metadata": {
        "id": "bafftQUsfQT0",
        "colab_type": "code",
        "outputId": "59f9c833-f9d2-4f14-d55b-822ca083ca72",
        "colab": {
          "base_uri": "https://localhost:8080/",
          "height": 206
        }
      },
      "cell_type": "code",
      "source": [
        "dataset.head()"
      ],
      "execution_count": 0,
      "outputs": [
        {
          "output_type": "execute_result",
          "data": {
            "text/html": [
              "<div>\n",
              "<style scoped>\n",
              "    .dataframe tbody tr th:only-of-type {\n",
              "        vertical-align: middle;\n",
              "    }\n",
              "\n",
              "    .dataframe tbody tr th {\n",
              "        vertical-align: top;\n",
              "    }\n",
              "\n",
              "    .dataframe thead th {\n",
              "        text-align: right;\n",
              "    }\n",
              "</style>\n",
              "<table border=\"1\" class=\"dataframe\">\n",
              "  <thead>\n",
              "    <tr style=\"text-align: right;\">\n",
              "      <th></th>\n",
              "      <th>user_id</th>\n",
              "      <th>item_id</th>\n",
              "      <th>rating</th>\n",
              "      <th>timestamp</th>\n",
              "    </tr>\n",
              "  </thead>\n",
              "  <tbody>\n",
              "    <tr>\n",
              "      <th>0</th>\n",
              "      <td>A1ZUSQ3TC3EC4C</td>\n",
              "      <td>B004A9SDD8</td>\n",
              "      <td>5.0</td>\n",
              "      <td>1321574400</td>\n",
              "    </tr>\n",
              "    <tr>\n",
              "      <th>1</th>\n",
              "      <td>AC05OAXD72X1V</td>\n",
              "      <td>B004A9SDD8</td>\n",
              "      <td>4.0</td>\n",
              "      <td>1367366400</td>\n",
              "    </tr>\n",
              "    <tr>\n",
              "      <th>2</th>\n",
              "      <td>A2RVMFOKBVM21I</td>\n",
              "      <td>B004A9SDD8</td>\n",
              "      <td>5.0</td>\n",
              "      <td>1350172800</td>\n",
              "    </tr>\n",
              "    <tr>\n",
              "      <th>3</th>\n",
              "      <td>A3NBSRGUWQGCMZ</td>\n",
              "      <td>B004A9SDD8</td>\n",
              "      <td>1.0</td>\n",
              "      <td>1300838400</td>\n",
              "    </tr>\n",
              "    <tr>\n",
              "      <th>4</th>\n",
              "      <td>A2KTVCVZJ8GPD2</td>\n",
              "      <td>B004A9SDD8</td>\n",
              "      <td>5.0</td>\n",
              "      <td>1393545600</td>\n",
              "    </tr>\n",
              "  </tbody>\n",
              "</table>\n",
              "</div>"
            ],
            "text/plain": [
              "          user_id     item_id  rating   timestamp\n",
              "0  A1ZUSQ3TC3EC4C  B004A9SDD8     5.0  1321574400\n",
              "1   AC05OAXD72X1V  B004A9SDD8     4.0  1367366400\n",
              "2  A2RVMFOKBVM21I  B004A9SDD8     5.0  1350172800\n",
              "3  A3NBSRGUWQGCMZ  B004A9SDD8     1.0  1300838400\n",
              "4  A2KTVCVZJ8GPD2  B004A9SDD8     5.0  1393545600"
            ]
          },
          "metadata": {
            "tags": []
          },
          "execution_count": 8
        }
      ]
    },
    {
      "metadata": {
        "id": "qgOTpw1UgiSp",
        "colab_type": "text"
      },
      "cell_type": "markdown",
      "source": [
        "Converting users and items to categories"
      ]
    },
    {
      "metadata": {
        "id": "tpFvhH-6fWD2",
        "colab_type": "code",
        "colab": {}
      },
      "cell_type": "code",
      "source": [
        "dataset.user_id = dataset.user_id.astype('category').cat.codes.values\n",
        "dataset.item_id = dataset.item_id.astype('category').cat.codes.values"
      ],
      "execution_count": 0,
      "outputs": []
    },
    {
      "metadata": {
        "id": "XOrZzBDKguf_",
        "colab_type": "text"
      },
      "cell_type": "markdown",
      "source": [
        "Create training and testing dataset"
      ]
    },
    {
      "metadata": {
        "id": "bTJXyNYnPnAN",
        "colab_type": "code",
        "colab": {}
      },
      "cell_type": "code",
      "source": [
        "from sklearn.model_selection import train_test_split\n",
        "train, test = train_test_split(dataset, test_size=0.2)"
      ],
      "execution_count": 0,
      "outputs": []
    },
    {
      "metadata": {
        "id": "1TaFXsZsPqZZ",
        "colab_type": "code",
        "outputId": "d657b4b0-5f60-4e07-b882-7b71b466a7d2",
        "colab": {
          "base_uri": "https://localhost:8080/",
          "height": 206
        }
      },
      "cell_type": "code",
      "source": [
        "train.head()"
      ],
      "execution_count": 0,
      "outputs": [
        {
          "output_type": "execute_result",
          "data": {
            "text/html": [
              "<div>\n",
              "<style scoped>\n",
              "    .dataframe tbody tr th:only-of-type {\n",
              "        vertical-align: middle;\n",
              "    }\n",
              "\n",
              "    .dataframe tbody tr th {\n",
              "        vertical-align: top;\n",
              "    }\n",
              "\n",
              "    .dataframe thead th {\n",
              "        text-align: right;\n",
              "    }\n",
              "</style>\n",
              "<table border=\"1\" class=\"dataframe\">\n",
              "  <thead>\n",
              "    <tr style=\"text-align: right;\">\n",
              "      <th></th>\n",
              "      <th>user_id</th>\n",
              "      <th>item_id</th>\n",
              "      <th>rating</th>\n",
              "      <th>timestamp</th>\n",
              "    </tr>\n",
              "  </thead>\n",
              "  <tbody>\n",
              "    <tr>\n",
              "      <th>241771</th>\n",
              "      <td>642444</td>\n",
              "      <td>3358</td>\n",
              "      <td>3.0</td>\n",
              "      <td>1351209600</td>\n",
              "    </tr>\n",
              "    <tr>\n",
              "      <th>791278</th>\n",
              "      <td>325536</td>\n",
              "      <td>13769</td>\n",
              "      <td>3.0</td>\n",
              "      <td>1388016000</td>\n",
              "    </tr>\n",
              "    <tr>\n",
              "      <th>799900</th>\n",
              "      <td>315237</td>\n",
              "      <td>14076</td>\n",
              "      <td>3.0</td>\n",
              "      <td>1354924800</td>\n",
              "    </tr>\n",
              "    <tr>\n",
              "      <th>108895</th>\n",
              "      <td>560275</td>\n",
              "      <td>1093</td>\n",
              "      <td>3.0</td>\n",
              "      <td>1303257600</td>\n",
              "    </tr>\n",
              "    <tr>\n",
              "      <th>988197</th>\n",
              "      <td>165002</td>\n",
              "      <td>17333</td>\n",
              "      <td>3.0</td>\n",
              "      <td>1368662400</td>\n",
              "    </tr>\n",
              "  </tbody>\n",
              "</table>\n",
              "</div>"
            ],
            "text/plain": [
              "        user_id  item_id  rating   timestamp\n",
              "241771   642444     3358     3.0  1351209600\n",
              "791278   325536    13769     3.0  1388016000\n",
              "799900   315237    14076     3.0  1354924800\n",
              "108895   560275     1093     3.0  1303257600\n",
              "988197   165002    17333     3.0  1368662400"
            ]
          },
          "metadata": {
            "tags": []
          },
          "execution_count": 11
        }
      ]
    },
    {
      "metadata": {
        "id": "Vc-rMM3MPsN-",
        "colab_type": "code",
        "outputId": "0f0d7db8-a81b-443e-cb96-709adbf1e2c4",
        "colab": {
          "base_uri": "https://localhost:8080/",
          "height": 206
        }
      },
      "cell_type": "code",
      "source": [
        "test.head()"
      ],
      "execution_count": 0,
      "outputs": [
        {
          "output_type": "execute_result",
          "data": {
            "text/html": [
              "<div>\n",
              "<style scoped>\n",
              "    .dataframe tbody tr th:only-of-type {\n",
              "        vertical-align: middle;\n",
              "    }\n",
              "\n",
              "    .dataframe tbody tr th {\n",
              "        vertical-align: top;\n",
              "    }\n",
              "\n",
              "    .dataframe thead th {\n",
              "        text-align: right;\n",
              "    }\n",
              "</style>\n",
              "<table border=\"1\" class=\"dataframe\">\n",
              "  <thead>\n",
              "    <tr style=\"text-align: right;\">\n",
              "      <th></th>\n",
              "      <th>user_id</th>\n",
              "      <th>item_id</th>\n",
              "      <th>rating</th>\n",
              "      <th>timestamp</th>\n",
              "    </tr>\n",
              "  </thead>\n",
              "  <tbody>\n",
              "    <tr>\n",
              "      <th>333424</th>\n",
              "      <td>419720</td>\n",
              "      <td>5424</td>\n",
              "      <td>3.0</td>\n",
              "      <td>1363737600</td>\n",
              "    </tr>\n",
              "    <tr>\n",
              "      <th>1014956</th>\n",
              "      <td>311588</td>\n",
              "      <td>17870</td>\n",
              "      <td>3.0</td>\n",
              "      <td>1350259200</td>\n",
              "    </tr>\n",
              "    <tr>\n",
              "      <th>379471</th>\n",
              "      <td>194703</td>\n",
              "      <td>6542</td>\n",
              "      <td>3.0</td>\n",
              "      <td>1355875200</td>\n",
              "    </tr>\n",
              "    <tr>\n",
              "      <th>434257</th>\n",
              "      <td>213740</td>\n",
              "      <td>7645</td>\n",
              "      <td>3.0</td>\n",
              "      <td>1367884800</td>\n",
              "    </tr>\n",
              "    <tr>\n",
              "      <th>197915</th>\n",
              "      <td>64776</td>\n",
              "      <td>2152</td>\n",
              "      <td>3.0</td>\n",
              "      <td>1325030400</td>\n",
              "    </tr>\n",
              "  </tbody>\n",
              "</table>\n",
              "</div>"
            ],
            "text/plain": [
              "         user_id  item_id  rating   timestamp\n",
              "333424    419720     5424     3.0  1363737600\n",
              "1014956   311588    17870     3.0  1350259200\n",
              "379471    194703     6542     3.0  1355875200\n",
              "434257    213740     7645     3.0  1367884800\n",
              "197915     64776     2152     3.0  1325030400"
            ]
          },
          "metadata": {
            "tags": []
          },
          "execution_count": 12
        }
      ]
    },
    {
      "metadata": {
        "id": "X6CvEBqjg49v",
        "colab_type": "text"
      },
      "cell_type": "markdown",
      "source": [
        "Import libraries for deep learning"
      ]
    },
    {
      "metadata": {
        "id": "z-01mjNdPtdk",
        "colab_type": "code",
        "outputId": "69047755-beeb-4f45-f3d6-524b1834d0bc",
        "colab": {
          "base_uri": "https://localhost:8080/",
          "height": 34
        }
      },
      "cell_type": "code",
      "source": [
        "import keras\n",
        "from IPython.display import SVG\n",
        "from keras.optimizers import Adam\n",
        "from keras.utils.vis_utils import model_to_dot\n",
        "\n",
        "n_users, n_items = len(dataset.user_id.unique()), len(dataset.item_id.unique())\n",
        "n_latent_factors = 3"
      ],
      "execution_count": 0,
      "outputs": [
        {
          "output_type": "stream",
          "text": [
            "Using TensorFlow backend.\n"
          ],
          "name": "stderr"
        }
      ]
    },
    {
      "metadata": {
        "id": "A_PTHNHXhC82",
        "colab_type": "text"
      },
      "cell_type": "markdown",
      "source": [
        "Create embeddings and format input "
      ]
    },
    {
      "metadata": {
        "id": "h9EeLUQwPzJH",
        "colab_type": "code",
        "outputId": "59c20379-17f3-40f8-f279-20356ca8813f",
        "colab": {
          "base_uri": "https://localhost:8080/",
          "height": 89
        }
      },
      "cell_type": "code",
      "source": [
        "item_input = keras.layers.Input(shape=[1],name='Item')\n",
        "item_embedding = keras.layers.Embedding(n_items + 1, n_latent_factors, name='Item-Embedding')(item_input)\n",
        "item_vec = keras.layers.Flatten(name='FlattenItems')(item_embedding)\n",
        "\n",
        "user_input = keras.layers.Input(shape=[1],name='User')\n",
        "user_vec = keras.layers.Flatten(name='FlattenUsers')(keras.layers.Embedding(n_users + 1, n_latent_factors,name='User-Embedding')(user_input))\n",
        "\n",
        "prod = keras.layers.dot([item_vec, user_vec], axes = 1,name='DotProduct')\n",
        "model = keras.Model([user_input, item_input], prod)\n",
        "model.compile('adam', 'mean_squared_error')"
      ],
      "execution_count": 0,
      "outputs": [
        {
          "output_type": "stream",
          "text": [
            "WARNING:tensorflow:From /usr/local/lib/python3.6/dist-packages/tensorflow/python/framework/op_def_library.py:263: colocate_with (from tensorflow.python.framework.ops) is deprecated and will be removed in a future version.\n",
            "Instructions for updating:\n",
            "Colocations handled automatically by placer.\n"
          ],
          "name": "stdout"
        }
      ]
    },
    {
      "metadata": {
        "id": "MWCB-2vlhJmL",
        "colab_type": "text"
      },
      "cell_type": "markdown",
      "source": [
        "Show the architecture of machine learning model"
      ]
    },
    {
      "metadata": {
        "id": "pK6yowzhP2fg",
        "colab_type": "code",
        "outputId": "65fb17d1-fe58-41af-ad85-d9d62bfa3fcd",
        "colab": {
          "base_uri": "https://localhost:8080/",
          "height": 446
        }
      },
      "cell_type": "code",
      "source": [
        "SVG(model_to_dot(model,  show_shapes=True, show_layer_names=True, rankdir='HB').create(prog='dot', format='svg'))"
      ],
      "execution_count": 0,
      "outputs": [
        {
          "output_type": "execute_result",
          "data": {
            "text/plain": [
              "<IPython.core.display.SVG object>"
            ],
            "image/svg+xml": "<svg height=\"304pt\" viewBox=\"0.00 0.00 695.50 304.00\" width=\"696pt\" xmlns=\"http://www.w3.org/2000/svg\" xmlns:xlink=\"http://www.w3.org/1999/xlink\">\n<g class=\"graph\" id=\"graph0\" transform=\"scale(1 1) rotate(0) translate(4 300)\">\n<title>G</title>\n<polygon fill=\"#ffffff\" points=\"-4,4 -4,-300 691.5,-300 691.5,4 -4,4\" stroke=\"transparent\"/>\n<!-- 140632874678536 -->\n<g class=\"node\" id=\"node1\">\n<title>140632874678536</title>\n<polygon fill=\"none\" points=\"45.5,-249.5 45.5,-295.5 288.5,-295.5 288.5,-249.5 45.5,-249.5\" stroke=\"#000000\"/>\n<text fill=\"#000000\" font-family=\"Times,serif\" font-size=\"14.00\" text-anchor=\"middle\" x=\"102\" y=\"-268.8\">Item: InputLayer</text>\n<polyline fill=\"none\" points=\"158.5,-249.5 158.5,-295.5 \" stroke=\"#000000\"/>\n<text fill=\"#000000\" font-family=\"Times,serif\" font-size=\"14.00\" text-anchor=\"middle\" x=\"187.5\" y=\"-280.3\">input:</text>\n<polyline fill=\"none\" points=\"158.5,-272.5 216.5,-272.5 \" stroke=\"#000000\"/>\n<text fill=\"#000000\" font-family=\"Times,serif\" font-size=\"14.00\" text-anchor=\"middle\" x=\"187.5\" y=\"-257.3\">output:</text>\n<polyline fill=\"none\" points=\"216.5,-249.5 216.5,-295.5 \" stroke=\"#000000\"/>\n<text fill=\"#000000\" font-family=\"Times,serif\" font-size=\"14.00\" text-anchor=\"middle\" x=\"252.5\" y=\"-280.3\">(None, 1)</text>\n<polyline fill=\"none\" points=\"216.5,-272.5 288.5,-272.5 \" stroke=\"#000000\"/>\n<text fill=\"#000000\" font-family=\"Times,serif\" font-size=\"14.00\" text-anchor=\"middle\" x=\"252.5\" y=\"-257.3\">(None, 1)</text>\n</g>\n<!-- 140632874678648 -->\n<g class=\"node\" id=\"node3\">\n<title>140632874678648</title>\n<polygon fill=\"none\" points=\"0,-166.5 0,-212.5 334,-212.5 334,-166.5 0,-166.5\" stroke=\"#000000\"/>\n<text fill=\"#000000\" font-family=\"Times,serif\" font-size=\"14.00\" text-anchor=\"middle\" x=\"94.5\" y=\"-185.8\">Item-Embedding: Embedding</text>\n<polyline fill=\"none\" points=\"189,-166.5 189,-212.5 \" stroke=\"#000000\"/>\n<text fill=\"#000000\" font-family=\"Times,serif\" font-size=\"14.00\" text-anchor=\"middle\" x=\"218\" y=\"-197.3\">input:</text>\n<polyline fill=\"none\" points=\"189,-189.5 247,-189.5 \" stroke=\"#000000\"/>\n<text fill=\"#000000\" font-family=\"Times,serif\" font-size=\"14.00\" text-anchor=\"middle\" x=\"218\" y=\"-174.3\">output:</text>\n<polyline fill=\"none\" points=\"247,-166.5 247,-212.5 \" stroke=\"#000000\"/>\n<text fill=\"#000000\" font-family=\"Times,serif\" font-size=\"14.00\" text-anchor=\"middle\" x=\"290.5\" y=\"-197.3\">(None, 1)</text>\n<polyline fill=\"none\" points=\"247,-189.5 334,-189.5 \" stroke=\"#000000\"/>\n<text fill=\"#000000\" font-family=\"Times,serif\" font-size=\"14.00\" text-anchor=\"middle\" x=\"290.5\" y=\"-174.3\">(None, 1, 3)</text>\n</g>\n<!-- 140632874678536&#45;&gt;140632874678648 -->\n<g class=\"edge\" id=\"edge1\">\n<title>140632874678536-&gt;140632874678648</title>\n<path d=\"M167,-249.3799C167,-241.1745 167,-231.7679 167,-222.8786\" fill=\"none\" stroke=\"#000000\"/>\n<polygon fill=\"#000000\" points=\"170.5001,-222.784 167,-212.784 163.5001,-222.784 170.5001,-222.784\" stroke=\"#000000\"/>\n</g>\n<!-- 140632874679544 -->\n<g class=\"node\" id=\"node2\">\n<title>140632874679544</title>\n<polygon fill=\"none\" points=\"398,-249.5 398,-295.5 642,-295.5 642,-249.5 398,-249.5\" stroke=\"#000000\"/>\n<text fill=\"#000000\" font-family=\"Times,serif\" font-size=\"14.00\" text-anchor=\"middle\" x=\"455\" y=\"-268.8\">User: InputLayer</text>\n<polyline fill=\"none\" points=\"512,-249.5 512,-295.5 \" stroke=\"#000000\"/>\n<text fill=\"#000000\" font-family=\"Times,serif\" font-size=\"14.00\" text-anchor=\"middle\" x=\"541\" y=\"-280.3\">input:</text>\n<polyline fill=\"none\" points=\"512,-272.5 570,-272.5 \" stroke=\"#000000\"/>\n<text fill=\"#000000\" font-family=\"Times,serif\" font-size=\"14.00\" text-anchor=\"middle\" x=\"541\" y=\"-257.3\">output:</text>\n<polyline fill=\"none\" points=\"570,-249.5 570,-295.5 \" stroke=\"#000000\"/>\n<text fill=\"#000000\" font-family=\"Times,serif\" font-size=\"14.00\" text-anchor=\"middle\" x=\"606\" y=\"-280.3\">(None, 1)</text>\n<polyline fill=\"none\" points=\"570,-272.5 642,-272.5 \" stroke=\"#000000\"/>\n<text fill=\"#000000\" font-family=\"Times,serif\" font-size=\"14.00\" text-anchor=\"middle\" x=\"606\" y=\"-257.3\">(None, 1)</text>\n</g>\n<!-- 140632874679488 -->\n<g class=\"node\" id=\"node4\">\n<title>140632874679488</title>\n<polygon fill=\"none\" points=\"352.5,-166.5 352.5,-212.5 687.5,-212.5 687.5,-166.5 352.5,-166.5\" stroke=\"#000000\"/>\n<text fill=\"#000000\" font-family=\"Times,serif\" font-size=\"14.00\" text-anchor=\"middle\" x=\"447.5\" y=\"-185.8\">User-Embedding: Embedding</text>\n<polyline fill=\"none\" points=\"542.5,-166.5 542.5,-212.5 \" stroke=\"#000000\"/>\n<text fill=\"#000000\" font-family=\"Times,serif\" font-size=\"14.00\" text-anchor=\"middle\" x=\"571.5\" y=\"-197.3\">input:</text>\n<polyline fill=\"none\" points=\"542.5,-189.5 600.5,-189.5 \" stroke=\"#000000\"/>\n<text fill=\"#000000\" font-family=\"Times,serif\" font-size=\"14.00\" text-anchor=\"middle\" x=\"571.5\" y=\"-174.3\">output:</text>\n<polyline fill=\"none\" points=\"600.5,-166.5 600.5,-212.5 \" stroke=\"#000000\"/>\n<text fill=\"#000000\" font-family=\"Times,serif\" font-size=\"14.00\" text-anchor=\"middle\" x=\"644\" y=\"-197.3\">(None, 1)</text>\n<polyline fill=\"none\" points=\"600.5,-189.5 687.5,-189.5 \" stroke=\"#000000\"/>\n<text fill=\"#000000\" font-family=\"Times,serif\" font-size=\"14.00\" text-anchor=\"middle\" x=\"644\" y=\"-174.3\">(None, 1, 3)</text>\n</g>\n<!-- 140632874679544&#45;&gt;140632874679488 -->\n<g class=\"edge\" id=\"edge2\">\n<title>140632874679544-&gt;140632874679488</title>\n<path d=\"M520,-249.3799C520,-241.1745 520,-231.7679 520,-222.8786\" fill=\"none\" stroke=\"#000000\"/>\n<polygon fill=\"#000000\" points=\"523.5001,-222.784 520,-212.784 516.5001,-222.784 523.5001,-222.784\" stroke=\"#000000\"/>\n</g>\n<!-- 140634179128400 -->\n<g class=\"node\" id=\"node5\">\n<title>140634179128400</title>\n<polygon fill=\"none\" points=\"56,-83.5 56,-129.5 334,-129.5 334,-83.5 56,-83.5\" stroke=\"#000000\"/>\n<text fill=\"#000000\" font-family=\"Times,serif\" font-size=\"14.00\" text-anchor=\"middle\" x=\"122.5\" y=\"-102.8\">FlattenItems: Flatten</text>\n<polyline fill=\"none\" points=\"189,-83.5 189,-129.5 \" stroke=\"#000000\"/>\n<text fill=\"#000000\" font-family=\"Times,serif\" font-size=\"14.00\" text-anchor=\"middle\" x=\"218\" y=\"-114.3\">input:</text>\n<polyline fill=\"none\" points=\"189,-106.5 247,-106.5 \" stroke=\"#000000\"/>\n<text fill=\"#000000\" font-family=\"Times,serif\" font-size=\"14.00\" text-anchor=\"middle\" x=\"218\" y=\"-91.3\">output:</text>\n<polyline fill=\"none\" points=\"247,-83.5 247,-129.5 \" stroke=\"#000000\"/>\n<text fill=\"#000000\" font-family=\"Times,serif\" font-size=\"14.00\" text-anchor=\"middle\" x=\"290.5\" y=\"-114.3\">(None, 1, 3)</text>\n<polyline fill=\"none\" points=\"247,-106.5 334,-106.5 \" stroke=\"#000000\"/>\n<text fill=\"#000000\" font-family=\"Times,serif\" font-size=\"14.00\" text-anchor=\"middle\" x=\"290.5\" y=\"-91.3\">(None, 3)</text>\n</g>\n<!-- 140632874678648&#45;&gt;140634179128400 -->\n<g class=\"edge\" id=\"edge3\">\n<title>140632874678648-&gt;140634179128400</title>\n<path d=\"M174.7996,-166.3799C177.6278,-157.9962 180.8791,-148.3584 183.9351,-139.2996\" fill=\"none\" stroke=\"#000000\"/>\n<polygon fill=\"#000000\" points=\"187.265,-140.3782 187.1452,-129.784 180.6322,-138.1406 187.265,-140.3782\" stroke=\"#000000\"/>\n</g>\n<!-- 140632874679320 -->\n<g class=\"node\" id=\"node6\">\n<title>140632874679320</title>\n<polygon fill=\"none\" points=\"366.5,-83.5 366.5,-129.5 645.5,-129.5 645.5,-83.5 366.5,-83.5\" stroke=\"#000000\"/>\n<text fill=\"#000000\" font-family=\"Times,serif\" font-size=\"14.00\" text-anchor=\"middle\" x=\"433.5\" y=\"-102.8\">FlattenUsers: Flatten</text>\n<polyline fill=\"none\" points=\"500.5,-83.5 500.5,-129.5 \" stroke=\"#000000\"/>\n<text fill=\"#000000\" font-family=\"Times,serif\" font-size=\"14.00\" text-anchor=\"middle\" x=\"529.5\" y=\"-114.3\">input:</text>\n<polyline fill=\"none\" points=\"500.5,-106.5 558.5,-106.5 \" stroke=\"#000000\"/>\n<text fill=\"#000000\" font-family=\"Times,serif\" font-size=\"14.00\" text-anchor=\"middle\" x=\"529.5\" y=\"-91.3\">output:</text>\n<polyline fill=\"none\" points=\"558.5,-83.5 558.5,-129.5 \" stroke=\"#000000\"/>\n<text fill=\"#000000\" font-family=\"Times,serif\" font-size=\"14.00\" text-anchor=\"middle\" x=\"602\" y=\"-114.3\">(None, 1, 3)</text>\n<polyline fill=\"none\" points=\"558.5,-106.5 645.5,-106.5 \" stroke=\"#000000\"/>\n<text fill=\"#000000\" font-family=\"Times,serif\" font-size=\"14.00\" text-anchor=\"middle\" x=\"602\" y=\"-91.3\">(None, 3)</text>\n</g>\n<!-- 140632874679488&#45;&gt;140632874679320 -->\n<g class=\"edge\" id=\"edge4\">\n<title>140632874679488-&gt;140632874679320</title>\n<path d=\"M516.1002,-166.3799C514.7162,-158.1745 513.1295,-148.7679 511.6301,-139.8786\" fill=\"none\" stroke=\"#000000\"/>\n<polygon fill=\"#000000\" points=\"515.042,-139.0625 509.9274,-129.784 508.1395,-140.2269 515.042,-139.0625\" stroke=\"#000000\"/>\n</g>\n<!-- 140632874679880 -->\n<g class=\"node\" id=\"node7\">\n<title>140632874679880</title>\n<polygon fill=\"none\" points=\"185.5,-.5 185.5,-46.5 500.5,-46.5 500.5,-.5 185.5,-.5\" stroke=\"#000000\"/>\n<text fill=\"#000000\" font-family=\"Times,serif\" font-size=\"14.00\" text-anchor=\"middle\" x=\"242\" y=\"-19.8\">DotProduct: Dot</text>\n<polyline fill=\"none\" points=\"298.5,-.5 298.5,-46.5 \" stroke=\"#000000\"/>\n<text fill=\"#000000\" font-family=\"Times,serif\" font-size=\"14.00\" text-anchor=\"middle\" x=\"327.5\" y=\"-31.3\">input:</text>\n<polyline fill=\"none\" points=\"298.5,-23.5 356.5,-23.5 \" stroke=\"#000000\"/>\n<text fill=\"#000000\" font-family=\"Times,serif\" font-size=\"14.00\" text-anchor=\"middle\" x=\"327.5\" y=\"-8.3\">output:</text>\n<polyline fill=\"none\" points=\"356.5,-.5 356.5,-46.5 \" stroke=\"#000000\"/>\n<text fill=\"#000000\" font-family=\"Times,serif\" font-size=\"14.00\" text-anchor=\"middle\" x=\"428.5\" y=\"-31.3\">[(None, 3), (None, 3)]</text>\n<polyline fill=\"none\" points=\"356.5,-23.5 500.5,-23.5 \" stroke=\"#000000\"/>\n<text fill=\"#000000\" font-family=\"Times,serif\" font-size=\"14.00\" text-anchor=\"middle\" x=\"428.5\" y=\"-8.3\">(None, 1)</text>\n</g>\n<!-- 140634179128400&#45;&gt;140632874679880 -->\n<g class=\"edge\" id=\"edge5\">\n<title>140634179128400-&gt;140632874679880</title>\n<path d=\"M236.2263,-83.3799C253.7936,-73.5279 274.449,-61.9442 292.8879,-51.6034\" fill=\"none\" stroke=\"#000000\"/>\n<polygon fill=\"#000000\" points=\"294.7284,-54.5841 301.7384,-46.6399 291.3043,-48.4787 294.7284,-54.5841\" stroke=\"#000000\"/>\n</g>\n<!-- 140632874679320&#45;&gt;140632874679880 -->\n<g class=\"edge\" id=\"edge6\">\n<title>140632874679320-&gt;140632874679880</title>\n<path d=\"M460.5954,-83.3799C440.9838,-73.3936 417.8777,-61.6279 397.3617,-51.1811\" fill=\"none\" stroke=\"#000000\"/>\n<polygon fill=\"#000000\" points=\"398.9429,-48.0587 388.4435,-46.6399 395.7666,-54.2966 398.9429,-48.0587\" stroke=\"#000000\"/>\n</g>\n</g>\n</svg>"
          },
          "metadata": {
            "tags": []
          },
          "execution_count": 15
        }
      ]
    },
    {
      "metadata": {
        "id": "27upvTyFhRRN",
        "colab_type": "text"
      },
      "cell_type": "markdown",
      "source": [
        "Model summary and learning parameters"
      ]
    },
    {
      "metadata": {
        "id": "7KDjCXG7P5zW",
        "colab_type": "code",
        "outputId": "f7563b01-78cc-4a30-e086-31e527b9e79f",
        "colab": {
          "base_uri": "https://localhost:8080/",
          "height": 419
        }
      },
      "cell_type": "code",
      "source": [
        "model.summary()"
      ],
      "execution_count": 0,
      "outputs": [
        {
          "output_type": "stream",
          "text": [
            "__________________________________________________________________________________________________\n",
            "Layer (type)                    Output Shape         Param #     Connected to                     \n",
            "==================================================================================================\n",
            "Item (InputLayer)               (None, 1)            0                                            \n",
            "__________________________________________________________________________________________________\n",
            "User (InputLayer)               (None, 1)            0                                            \n",
            "__________________________________________________________________________________________________\n",
            "Item-Embedding (Embedding)      (None, 1, 3)         54921       Item[0][0]                       \n",
            "__________________________________________________________________________________________________\n",
            "User-Embedding (Embedding)      (None, 1, 3)         1931856     User[0][0]                       \n",
            "__________________________________________________________________________________________________\n",
            "FlattenItems (Flatten)          (None, 3)            0           Item-Embedding[0][0]             \n",
            "__________________________________________________________________________________________________\n",
            "FlattenUsers (Flatten)          (None, 3)            0           User-Embedding[0][0]             \n",
            "__________________________________________________________________________________________________\n",
            "DotProduct (Dot)                (None, 1)            0           FlattenItems[0][0]               \n",
            "                                                                 FlattenUsers[0][0]               \n",
            "==================================================================================================\n",
            "Total params: 1,986,777\n",
            "Trainable params: 1,986,777\n",
            "Non-trainable params: 0\n",
            "__________________________________________________________________________________________________\n"
          ],
          "name": "stdout"
        }
      ]
    },
    {
      "metadata": {
        "id": "pezTo_syP8tZ",
        "colab_type": "code",
        "outputId": "5d390e4d-7b84-47a1-9b97-e2bb9c8db642",
        "colab": {
          "base_uri": "https://localhost:8080/",
          "height": 89
        }
      },
      "cell_type": "code",
      "source": [
        "history = model.fit([train.user_id, train.item_id], train.rating, epochs=100, verbose=0)"
      ],
      "execution_count": 0,
      "outputs": [
        {
          "output_type": "stream",
          "text": [
            "WARNING:tensorflow:From /usr/local/lib/python3.6/dist-packages/tensorflow/python/ops/math_ops.py:3066: to_int32 (from tensorflow.python.ops.math_ops) is deprecated and will be removed in a future version.\n",
            "Instructions for updating:\n",
            "Use tf.cast instead.\n"
          ],
          "name": "stdout"
        }
      ]
    },
    {
      "metadata": {
        "id": "JffJHpEthsDT",
        "colab_type": "text"
      },
      "cell_type": "markdown",
      "source": [
        "Same procedure but now with neural networks"
      ]
    },
    {
      "metadata": {
        "id": "sq5eV_-CP_Ym",
        "colab_type": "code",
        "colab": {}
      },
      "cell_type": "code",
      "source": [
        "pd.Series(history.history['loss']).plot(logy=True)\n",
        "plt.xlabel(\"Epoch\")\n",
        "plt.ylabel(\"Train Error\")"
      ],
      "execution_count": 0,
      "outputs": []
    },
    {
      "metadata": {
        "id": "eUl221XdQB3h",
        "colab_type": "code",
        "colab": {}
      },
      "cell_type": "code",
      "source": [
        "y_hat = np.round(model.predict([test.user_id, test.item_id]),0)\n",
        "y_true = test.rating"
      ],
      "execution_count": 0,
      "outputs": []
    },
    {
      "metadata": {
        "id": "znmhzgzYQEJ8",
        "colab_type": "code",
        "colab": {}
      },
      "cell_type": "code",
      "source": [
        "from sklearn.metrics import mean_absolute_error\n",
        "mean_absolute_error(y_true, y_hat)"
      ],
      "execution_count": 0,
      "outputs": []
    },
    {
      "metadata": {
        "id": "8zOaPc39QGQr",
        "colab_type": "code",
        "colab": {}
      },
      "cell_type": "code",
      "source": [
        "item_embedding_learnt = model.get_layer(name='Item-Embedding').get_weights()[0]\n",
        "pd.DataFrame(item_embedding_learnt).describe()"
      ],
      "execution_count": 0,
      "outputs": []
    },
    {
      "metadata": {
        "id": "S9PH-znvQH4n",
        "colab_type": "code",
        "colab": {}
      },
      "cell_type": "code",
      "source": [
        "user_embedding_learnt = model.get_layer(name='User-Embedding').get_weights()[0]\n",
        "pd.DataFrame(user_embedding_learnt).describe()"
      ],
      "execution_count": 0,
      "outputs": []
    },
    {
      "metadata": {
        "id": "6eyYmpGOQOyH",
        "colab_type": "code",
        "colab": {}
      },
      "cell_type": "code",
      "source": [
        "n_latent_factors_user = 5\n",
        "n_latent_factors_item = 8\n",
        "\n",
        "item_input = keras.layers.Input(shape=[1],name='Item')\n",
        "item_embedding = keras.layers.Embedding(n_items + 1, n_latent_factors_item, name='Item-Embedding')(item_input)\n",
        "item_vec = keras.layers.Flatten(name='FlattenItems')(item_embedding)\n",
        "item_vec = keras.layers.Dropout(0.2)(item_vec)\n",
        "\n",
        "\n",
        "user_input = keras.layers.Input(shape=[1],name='User')\n",
        "user_vec = keras.layers.Flatten(name='FlattenUsers')(keras.layers.Embedding(n_users + 1, n_latent_factors_user,name='User-Embedding')(user_input))\n",
        "user_vec = keras.layers.Dropout(0.2)(user_vec)\n",
        "\n",
        "\n",
        "concat = keras.layers.concatenate([item_vec, user_vec],name='Concat')\n",
        "concat_dropout = keras.layers.Dropout(0.2)(concat)\n",
        "dense = keras.layers.Dense(200,name='FullyConnected')(concat)\n",
        "dropout_1 = keras.layers.Dropout(0.2,name='Dropout')(dense)\n",
        "dense_2 = keras.layers.Dense(100,name='FullyConnected-1')(concat)\n",
        "dropout_2 = keras.layers.Dropout(0.2,name='Dropout')(dense_2)\n",
        "dense_3 = keras.layers.Dense(50,name='FullyConnected-2')(dense_2)\n",
        "dropout_3 = keras.layers.Dropout(0.2,name='Dropout')(dense_3)\n",
        "dense_4 = keras.layers.Dense(20,name='FullyConnected-3', activation='relu')(dense_3)\n",
        "\n",
        "\n",
        "result = keras.layers.Dense(1, activation='relu',name='Activation')(dense_4)\n",
        "adam = Adam(lr=0.005)\n",
        "model = keras.Model([user_input, item_input], result)\n",
        "model.compile(optimizer=adam,loss= 'mean_absolute_error')"
      ],
      "execution_count": 0,
      "outputs": []
    },
    {
      "metadata": {
        "id": "eMLhdae8QRWD",
        "colab_type": "code",
        "colab": {}
      },
      "cell_type": "code",
      "source": [
        "SVG(model_to_dot(model,  show_shapes=True, show_layer_names=True, rankdir='HB').create(prog='dot', format='svg'))"
      ],
      "execution_count": 0,
      "outputs": []
    },
    {
      "metadata": {
        "id": "Df6eXoOaQSyl",
        "colab_type": "code",
        "colab": {}
      },
      "cell_type": "code",
      "source": [
        "model.summary()"
      ],
      "execution_count": 0,
      "outputs": []
    },
    {
      "metadata": {
        "id": "SJ7-b00rQUnc",
        "colab_type": "code",
        "colab": {}
      },
      "cell_type": "code",
      "source": [
        "history = model.fit([train.user_id, train.item_id], train.rating, epochs=250, verbose=0)"
      ],
      "execution_count": 0,
      "outputs": []
    },
    {
      "metadata": {
        "id": "mcdDx7Ylh29f",
        "colab_type": "text"
      },
      "cell_type": "markdown",
      "source": [
        "Results"
      ]
    },
    {
      "metadata": {
        "id": "NnIvIvzGQWVG",
        "colab_type": "code",
        "colab": {}
      },
      "cell_type": "code",
      "source": [
        "y_hat_2 = np.round(model.predict([test.user_id, test.item_id]),0)\n",
        "print(mean_absolute_error(y_true, y_hat_2))\n",
        "\n",
        "print(mean_absolute_error(y_true, model.predict([test.user_id, test.item_id])))"
      ],
      "execution_count": 0,
      "outputs": []
    }
  ]
}